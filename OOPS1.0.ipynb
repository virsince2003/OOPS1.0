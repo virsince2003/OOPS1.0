{
 "cells": [
  {
   "cell_type": "markdown",
   "id": "623533f9-d319-4163-8523-e9ac0019be0a",
   "metadata": {},
   "source": [
    "Q1. Explain Class and Object with respect to Object-Oriented Programming. Give a suitable example."
   ]
  },
  {
   "cell_type": "raw",
   "id": "05d7f484-f4b4-486a-ad45-c06316ca7e53",
   "metadata": {},
   "source": [
    "Class is used as a template which is used to create a object and it is also used ot bind the data.\n",
    "Object is variable inside the class,it can be manipulated and it can be created as many time as its needs."
   ]
  },
  {
   "cell_type": "code",
   "execution_count": 1,
   "id": "571e0ca1-7df0-4130-9e88-53f0c1168ed9",
   "metadata": {},
   "outputs": [],
   "source": [
    "class hostel:\n",
    "    def room(self):\n",
    "        print(\"Welcome to A-206\")"
   ]
  },
  {
   "cell_type": "code",
   "execution_count": 2,
   "id": "bf3f3f81-d0f5-4b59-9225-87d7e8fb8ea3",
   "metadata": {},
   "outputs": [
    {
     "name": "stdout",
     "output_type": "stream",
     "text": [
      "Welcome to A-206\n"
     ]
    }
   ],
   "source": [
    "nischey=hostel()\n",
    "nischey.room()"
   ]
  },
  {
   "cell_type": "markdown",
   "id": "975c1a17-a908-44e4-81d5-65e1efed860a",
   "metadata": {},
   "source": [
    "Q2. Name the four pillars of OOPs."
   ]
  },
  {
   "cell_type": "markdown",
   "id": "48d7ac74-97ba-422a-b026-d527469266b9",
   "metadata": {},
   "source": [
    "1.Inheritance \n",
    "2.Polymorphism \n",
    "3.Encapsulation\n",
    "4.Abstraction"
   ]
  },
  {
   "cell_type": "markdown",
   "id": "94a08f46-6ca1-468a-8915-af34fc5627cb",
   "metadata": {},
   "source": [
    "Q3. Explain why the __init__() function is used. Give a suitable example."
   ]
  },
  {
   "cell_type": "markdown",
   "id": "ffab5294-f64d-4be2-9421-c083c7f7bdb7",
   "metadata": {},
   "source": [
    "It is used as a constructor and it is used to create a new object."
   ]
  },
  {
   "cell_type": "code",
   "execution_count": 3,
   "id": "1b163427-e80d-4f19-ac1f-c0e3e42d59fc",
   "metadata": {},
   "outputs": [],
   "source": [
    "class skill:\n",
    "    def __init__(self,phone_number,email_id,student_id):\n",
    "        self.phone_number=phone_number\n",
    "        self.email_id=email_id\n",
    "        self.student_id=student_id\n",
    "    def return_details(self):\n",
    "        return self.phone_number,self.email_id,self.student_id"
   ]
  },
  {
   "cell_type": "code",
   "execution_count": 43,
   "id": "a730e6b9-3b6c-47b7-a541-7ad5316d774f",
   "metadata": {},
   "outputs": [],
   "source": [
    "Virender= skill(8584462154,\"virender@gmail.com\",206)"
   ]
  },
  {
   "cell_type": "code",
   "execution_count": 47,
   "id": "f3eae98a-4642-49a8-8f1e-f029b9ccec90",
   "metadata": {},
   "outputs": [
    {
     "data": {
      "text/plain": [
       "<__main__.skill at 0x7fd22c716320>"
      ]
     },
     "execution_count": 47,
     "metadata": {},
     "output_type": "execute_result"
    }
   ],
   "source": [
    "Virender"
   ]
  },
  {
   "cell_type": "code",
   "execution_count": 48,
   "id": "b17c2d93-57dd-4465-9819-6218d4e16b1c",
   "metadata": {},
   "outputs": [
    {
     "data": {
      "text/plain": [
       "(8584462154, 'virender@gmail.com', 206)"
      ]
     },
     "execution_count": 48,
     "metadata": {},
     "output_type": "execute_result"
    }
   ],
   "source": [
    "Virender.return_details()"
   ]
  },
  {
   "cell_type": "markdown",
   "id": "03da2c43-5039-4204-8ca1-e1b4d2255a88",
   "metadata": {},
   "source": [
    "Q4. Why self is used in OOPs?"
   ]
  },
  {
   "cell_type": "markdown",
   "id": "fe0e1e8e-e757-43c0-8083-a0c023ac8a90",
   "metadata": {},
   "source": [
    "it is used as reference in the class."
   ]
  },
  {
   "cell_type": "markdown",
   "id": "e2dc9b0e-5425-4242-93c9-643ca3d313f7",
   "metadata": {},
   "source": [
    "Q5. What is inheritance? Give an example for each type of inheritance."
   ]
  },
  {
   "cell_type": "markdown",
   "id": "7459602e-41ce-4977-ae74-5ddd671fe670",
   "metadata": {},
   "source": [
    "Inheritance allows us to define class that inherits all methods and properties from another class."
   ]
  },
  {
   "cell_type": "code",
   "execution_count": 2,
   "id": "92c60955-61e7-444b-9705-b01d95a03df0",
   "metadata": {},
   "outputs": [
    {
     "name": "stdout",
     "output_type": "stream",
     "text": [
      "I am from class1.\n"
     ]
    }
   ],
   "source": [
    "class class1:\n",
    "    def test_class1(self):\n",
    "        print(\"I am from class1.\")\n",
    "class class2(class1):\n",
    "    pass\n",
    "class_obj=class2()\n",
    "class_obj.test_class1()"
   ]
  }
 ],
 "metadata": {
  "kernelspec": {
   "display_name": "Python 3 (ipykernel)",
   "language": "python",
   "name": "python3"
  },
  "language_info": {
   "codemirror_mode": {
    "name": "ipython",
    "version": 3
   },
   "file_extension": ".py",
   "mimetype": "text/x-python",
   "name": "python",
   "nbconvert_exporter": "python",
   "pygments_lexer": "ipython3",
   "version": "3.10.8"
  }
 },
 "nbformat": 4,
 "nbformat_minor": 5
}
